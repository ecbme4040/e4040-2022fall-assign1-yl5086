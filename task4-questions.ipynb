{
 "cells": [
  {
   "cell_type": "markdown",
   "metadata": {},
   "source": [
    "## Columbia University\n",
    "### ECBM E4040 Neural Networks and Deep Learning. Fall 2022."
   ]
  },
  {
   "cell_type": "markdown",
   "metadata": {},
   "source": [
    "# Assignment 1, Task 4: Questions (10%)"
   ]
  },
  {
   "cell_type": "markdown",
   "metadata": {},
   "source": [
    "### Question 1 \n",
    "What is the effect of increasing the number of layers in an MLP? Are larger (with a greater number of hidden layers) models preferred to smaller ones? If so, why? Or why not?\n",
    "\n",
    "   Your answer:\n",
    "   \n",
    "       The number of layers in an MLP has complicated effects on the output, so the preferability of a larger model really depends. A good model may not be a large model, but it must match the scale of the problem.\n",
    "       \n",
    "       For example, we analyze the performance of the 2-layer, 3-layer, and 4-layer networks in Task2 and Task3. We can see their test accuracy is all around 85%~86%, with the larger model owing fewer perceptrons for each layer. If we simply enlarge the model by copying hidden layers without tuning each layer, the result is not likely to be better."
   ]
  },
  {
   "cell_type": "markdown",
   "metadata": {},
   "source": [
    "### Question 2 \n",
    "What is the significance of activation functions in deep learning models? Name any two activation functions that you would use for a hidden layer and for the output layer. \n",
    "\n",
    "   Your answer: \n",
    "   \n",
    "       Activation function is significant because it decides how much of the current node's output can be transmitted to the next layer.\n",
    "       I would like to use ReLU for hidden layers, and sigmoid or softmax for the output layer."
   ]
  },
  {
   "cell_type": "markdown",
   "metadata": {},
   "source": [
    "### Question 3\n",
    "Assume you have a problem to predict the annual rainfall in a certain region with some historic numeric data that was given to you, which of these 2 models (Linear Regression and Logistic Regression) would you use? \n",
    "How would you modify the problem statement to use the other model? Are they both linear? \n",
    "\n",
    "   Your answer:\n",
    "   \n",
    "       To predict the annual rainfall, I need a vast range of numerical output, but Logistic Regression only has output between 0 and 1, so I would use Linear Regression.\n",
    "       If we are to use Logistic Regression, the question could be modified as: predict the probability of the annual rainfall in this region being greater than a certain value (e.g. the historical average).\n",
    "       Linear Regression model is linear, while Logistic Regression model is nonlinear because of the nonlinear activation func.\n"
   ]
  },
  {
   "cell_type": "markdown",
   "metadata": {},
   "source": [
    "### Question 4\n",
    "What is the difference between a loss function and an optimization function? \n",
    "\n",
    "   Your answer:\n",
    "   \n",
    "       A loss function is the objective function for us to optimize (minimize).\n",
    "       An optimization function contains algorithms to optimize the loss function, from which some algorithms are closed-form numerical, and others are based on iterations.\n",
    "   \n"
   ]
  },
  {
   "cell_type": "markdown",
   "metadata": {},
   "source": [
    "### Question 5\n",
    "What will happen if you choose a very small or a very large learning rate? \n",
    "\n",
    "   Your answer:\n",
    "       \n",
    "       A very small learning rate may have the problem difficult to converge within given iterations.\n",
    "       A very large learning rate may have the solution wandering around the optimized point and have a less-than-perfect result.\n",
    "   "
   ]
  },
  {
   "cell_type": "markdown",
   "metadata": {},
   "source": [
    "### Question 6\n",
    "What is the function of perplexity in tSNE?  \n",
    "    \n",
    "   Your answer:\n",
    "   \n",
    "       Practically, the parameter \"perplexity\" controls the final layout of the tSNE visualization. Different perplexity settings can change the way the scatter points are distributed, and we often need to try different perplexity several times to find the best one.\n",
    "       \n",
    "       Technically, the parameter \"perplexity\" has a complex effect on the resulting pictures. Generally speaking, perplexity balances the attention between local and global aspects of provided data."
   ]
  },
  {
   "cell_type": "markdown",
   "metadata": {},
   "source": [
    "# End of Assignment 1"
   ]
  },
  {
   "cell_type": "code",
   "execution_count": 1,
   "metadata": {},
   "outputs": [
    {
     "name": "stdout",
     "output_type": "stream",
     "text": [
      "Reading package lists... Done\n",
      "Building dependency tree       \n",
      "Reading state information... Done\n",
      "The following package was automatically installed and is no longer required:\n",
      "  libnuma1\n",
      "Use 'sudo apt autoremove' to remove it.\n",
      "The following NEW packages will be installed:\n",
      "  tree\n",
      "0 upgraded, 1 newly installed, 0 to remove and 54 not upgraded.\n",
      "Need to get 40.7 kB of archives.\n",
      "After this operation, 105 kB of additional disk space will be used.\n",
      "Get:1 http://us-central1.gce.archive.ubuntu.com/ubuntu bionic/universe amd64 tree amd64 1.7.0-5 [40.7 kB]\n",
      "Fetched 40.7 kB in 0s (2427 kB/s)\n",
      "Selecting previously unselected package tree.\n",
      "(Reading database ... 137075 files and directories currently installed.)\n",
      "Preparing to unpack .../tree_1.7.0-5_amd64.deb ...\n",
      "Unpacking tree (1.7.0-5) ...\n",
      "Setting up tree (1.7.0-5) ...\n",
      "Processing triggers for man-db (2.8.3-2ubuntu0.1) ...\n"
     ]
    }
   ],
   "source": [
    "!sudo apt-get install tree\n",
    "!tree ./ >> README.md # append the tree to the README.md file"
   ]
  }
 ],
 "metadata": {
  "kernelspec": {
   "display_name": "Python 3",
   "language": "python",
   "name": "python3"
  },
  "language_info": {
   "codemirror_mode": {
    "name": "ipython",
    "version": 3
   },
   "file_extension": ".py",
   "mimetype": "text/x-python",
   "name": "python",
   "nbconvert_exporter": "python",
   "pygments_lexer": "ipython3",
   "version": "3.6.9"
  },
  "vscode": {
   "interpreter": {
    "hash": "b0fa6594d8f4cbf19f97940f81e996739fb7646882a419484c72d19e05852a7e"
   }
  }
 },
 "nbformat": 4,
 "nbformat_minor": 2
}
