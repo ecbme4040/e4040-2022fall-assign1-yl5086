{
 "cells": [
  {
   "cell_type": "markdown",
   "metadata": {},
   "source": [
    "## Columbia University\n",
    "### ECBM E4040 Neural Networks and Deep Learning. Fall 2022."
   ]
  },
  {
   "cell_type": "markdown",
   "metadata": {
    "colab_type": "text",
    "id": "Qe6yTh55trpQ"
   },
   "source": [
    "# Assignment 1, Task 3: Multilayer Perceptron (MLP)\n",
    "This is the third part of the assignment. You will get to implement MLP using tensorflow"
   ]
  },
  {
   "cell_type": "code",
   "execution_count": 1,
   "metadata": {
    "colab": {},
    "colab_type": "code",
    "id": "7Vs2WYIFtrpS",
    "tags": []
   },
   "outputs": [],
   "source": [
    "# Import modules\n",
    "from __future__ import print_function\n",
    "import tensorflow as tf\n",
    "import numpy as np\n",
    "import time\n",
    "import os\n",
    "import matplotlib.pyplot as plt\n",
    "import pickle\n",
    "\n",
    "from tensorflow.keras.datasets import fashion_mnist\n",
    "\n",
    "# Plot configurations\n",
    "%matplotlib inline\n",
    "\n",
    "# Notebook auto reloads code. (Ref: http://stackoverflow.com/questions/1907993/autoreload-of-modules-in-ipython)\n",
    "%load_ext autoreload\n",
    "%autoreload 2"
   ]
  },
  {
   "cell_type": "markdown",
   "metadata": {
    "colab_type": "text",
    "id": "3gYnTjputrpV"
   },
   "source": [
    "## Load Data"
   ]
  },
  {
   "cell_type": "code",
   "execution_count": 2,
   "metadata": {
    "colab": {
     "base_uri": "https://localhost:8080/",
     "height": 168
    },
    "colab_type": "code",
    "id": "I31uJ6KltrpW",
    "outputId": "1a677958-43ca-422c-ec66-38e8cdff4283",
    "tags": []
   },
   "outputs": [
    {
     "name": "stdout",
     "output_type": "stream",
     "text": [
      "(58000, 784) (2000, 784) (10000, 784) (100, 784)\n",
      "Train data shape:  (58000, 784)\n",
      "Train labels shape:  (58000,)\n",
      "Validation data shape:  (2000, 784)\n",
      "Validation labels shape:  (2000,)\n",
      "Test data shape:  (10000, 784)\n",
      "Test labels shape:  (10000,)\n",
      "Development data shape: (100, 784)\n",
      "Development data shape (100,)\n"
     ]
    }
   ],
   "source": [
    "# Load the raw Fashion-MNIST data.\n",
    "train, test = fashion_mnist.load_data()\n",
    "\n",
    "X_train_raw, y_train = train\n",
    "X_test_raw, y_test = test\n",
    "\n",
    "X_train = X_train_raw.reshape((X_train_raw.shape[0], X_train_raw.shape[1]**2))\n",
    "X_test = X_test_raw.reshape((X_test_raw.shape[0], X_test_raw.shape[1]**2))\n",
    "\n",
    "# Data organizations:\n",
    "# Train data: 58000 samples from original training set of 60,000\n",
    "# Validation data: 2000 samples from original training set: 58,000~60,000\n",
    "# Test data: 10000 samples from original test set\n",
    "# Development data (for gradient check): 100 from the training set\n",
    "\n",
    "num_training = 58000\n",
    "num_validation = 2000\n",
    "num_dev = 100\n",
    "\n",
    "X_val = X_train[-num_validation:, :]\n",
    "y_val = y_train[-num_validation:]\n",
    "\n",
    "mask = np.random.choice(num_training, num_dev, replace=False)\n",
    "X_dev = X_train[mask]\n",
    "y_dev = y_train[mask]\n",
    "\n",
    "X_train = X_train[:num_training, :]\n",
    "y_train = y_train[:num_training]\n",
    "\n",
    "# Preprocessing: subtract the mean value across every dimension for training data\n",
    "mean_image = np.mean(X_train, axis=0)\n",
    "\n",
    "X_train = X_train.astype(np.float32) - mean_image.astype(np.float32)\n",
    "X_val = X_val.astype(np.float32) - mean_image\n",
    "X_test = X_test.astype(np.float32) - mean_image\n",
    "X_dev = X_dev.astype(np.float32) - mean_image\n",
    "\n",
    "print(X_train.shape, X_val.shape, X_test.shape, X_dev.shape)\n",
    "print('Train data shape: ', X_train.shape)\n",
    "print('Train labels shape: ', y_train.shape)\n",
    "print('Validation data shape: ', X_val.shape)\n",
    "print('Validation labels shape: ', y_val.shape)\n",
    "print('Test data shape: ', X_test.shape)\n",
    "print('Test labels shape: ', y_test.shape)\n",
    "print('Development data shape:', X_dev.shape)\n",
    "print('Development data shape', y_dev.shape)"
   ]
  },
  {
   "cell_type": "markdown",
   "metadata": {
    "colab_type": "text",
    "id": "xa_w8ZHbtrqY"
   },
   "source": [
    "## Part 1: Tensorflow MLP (15%)\n",
    "In this part, you will use tensorflow modules to implement a MLP. We provide a demo of a two-layer net, of which style is referred to https://www.tensorflow.org/guide/keras, and https://www.tensorflow.org/guide/eager. \n",
    "\n",
    "You need to implement a multi-layer with 4 layers in a similar style."
   ]
  },
  {
   "cell_type": "markdown",
   "metadata": {},
   "source": [
    "### Demo: Two-layer MLP in Tensorflow"
   ]
  },
  {
   "cell_type": "code",
   "execution_count": 3,
   "metadata": {
    "colab": {
     "base_uri": "https://localhost:8080/",
     "height": 202
    },
    "colab_type": "code",
    "id": "-0xQOzpdtrqZ",
    "outputId": "212defc2-2cd6-406f-affe-9c6c7367e87f",
    "tags": []
   },
   "outputs": [
    {
     "name": "stdout",
     "output_type": "stream",
     "text": [
      "epoch 1: valid acc = 0.7540000081062317\n",
      "epoch 2: valid acc = 0.8090000152587891\n",
      "epoch 3: valid acc = 0.8289999961853027\n",
      "epoch 4: valid acc = 0.8364999890327454\n",
      "epoch 5: valid acc = 0.8525000214576721\n",
      "epoch 6: valid acc = 0.8569999933242798\n",
      "epoch 7: valid acc = 0.8579999804496765\n",
      "epoch 8: valid acc = 0.8615000247955322\n",
      "epoch 9: valid acc = 0.8650000095367432\n",
      "epoch 10: valid acc = 0.8684999942779541\n",
      "epoch 11: valid acc = 0.8675000071525574\n",
      "epoch 12: valid acc = 0.8705000281333923\n",
      "epoch 13: valid acc = 0.8709999918937683\n",
      "epoch 14: valid acc = 0.8730000257492065\n",
      "epoch 15: valid acc = 0.8725000023841858\n",
      "test acc = 0.8605999946594238\n"
     ]
    }
   ],
   "source": [
    "## Demo: Two-layer net in tensorflow (eager execution mode)\n",
    "hidden_dim = 300\n",
    "reg_tf = tf.constant(0.01)\n",
    "\n",
    "# define a tf.keras.Model class\n",
    "class Model(tf.keras.Model):\n",
    "    def __init__(self):\n",
    "        super(Model, self).__init__()\n",
    "        self.W1 = tf.Variable(1e-2*np.random.rand(X_train.shape[1], hidden_dim).astype('float32'))\n",
    "        self.b1 = tf.Variable(np.zeros((hidden_dim,)).astype('float32'))\n",
    "        self.W2 = tf.Variable(1e-2*np.random.rand(hidden_dim, 20).astype('float32'))\n",
    "        self.b2 = tf.Variable(np.zeros((20,)).astype('float32'))\n",
    "    def call(self, inputs):\n",
    "        \"\"\"Run the model.\"\"\"\n",
    "        h1 = tf.nn.relu(tf.matmul(inputs, self.W1) + self.b1)\n",
    "        out = tf.matmul(h1, self.W2) + self.b2\n",
    "        return out\n",
    "\n",
    "# Define and calculate loss function (Note that in eager execution, loss must be in a function)\n",
    "def loss(model, inputs, targets, reg = tf.constant(0.01)):\n",
    "    out = model(inputs)\n",
    "    cross_entropy = tf.nn.softmax_cross_entropy_with_logits(logits= out, labels=tf.one_hot(targets,20))\n",
    "    L2_loss = tf.nn.l2_loss(model.W1) + tf.nn.l2_loss(model.W2)\n",
    "    return tf.reduce_mean(cross_entropy) + reg * L2_loss\n",
    "\n",
    "# calculate gradients for all variables using tf.GradientTape\n",
    "def grad(model, inputs, targets, reg = tf.constant(0.01)):\n",
    "    with tf.GradientTape() as tape:\n",
    "        loss_value = loss(model, inputs, targets, reg=reg)\n",
    "    return tape.gradient(loss_value, [model.W1, model.b1, model.W2, model.b2])\n",
    "\n",
    "# calculate classification accuracy\n",
    "def eval_acc(model, inputs, targets):\n",
    "    correct_prediction = tf.equal(targets, tf.cast(tf.argmax(model(inputs),1), tf.uint8))\n",
    "    accuracy = tf.reduce_mean(tf.cast(correct_prediction, tf.float32))\n",
    "    return accuracy\n",
    "\n",
    "num_train = 58000\n",
    "batch_size = 500\n",
    "num_batch = num_train//batch_size\n",
    "num_epochs = 15\n",
    "model = Model()\n",
    "optimizer = tf.keras.optimizers.SGD(learning_rate=1e-3)\n",
    "\n",
    "for e in range(num_epochs):\n",
    "    for i in range(num_batch):\n",
    "        batch_xs, batch_ys = X_train[i*batch_size:(i+1)*batch_size], y_train[i*batch_size:(i+1)*batch_size]\n",
    "        x_tf = tf.Variable(batch_xs, dtype = tf.float32)\n",
    "        y_tf = tf.Variable(batch_ys, dtype = tf.uint8)\n",
    "        \n",
    "        grads = grad(model, x_tf, y_tf, reg_tf)\n",
    "        #optimization based on calculated gradients \n",
    "        optimizer.apply_gradients(zip(grads, [model.W1, model.b1, model.W2, model.b2]))\n",
    "\n",
    "    x_tf = tf.Variable(X_val, dtype = tf.float32)\n",
    "    y_tf = tf.Variable(y_val, dtype = tf.uint8)\n",
    "    accuracy = eval_acc(model, x_tf, y_tf)\n",
    "    val_acc = accuracy.numpy()\n",
    "    print('epoch {}: valid acc = {}'.format(e+1, val_acc))\n",
    "\n",
    "x_tf = tf.Variable(X_test, dtype = tf.float32)\n",
    "y_tf = tf.Variable(y_test, dtype = tf.uint8)\n",
    "accuracy = eval_acc(model, x_tf, y_tf)\n",
    "test_acc = accuracy.numpy()\n",
    "print('test acc = {}'.format(test_acc))"
   ]
  },
  {
   "cell_type": "markdown",
   "metadata": {},
   "source": [
    "Yufan's Note: Test accuracy for demo two-layer network is around 86%."
   ]
  },
  {
   "cell_type": "markdown",
   "metadata": {},
   "source": [
    "### Create Deeper Network"
   ]
  },
  {
   "cell_type": "markdown",
   "metadata": {
    "colab_type": "text",
    "id": "YmSduBmytrqb"
   },
   "source": [
    "<span style=\"color:red\"><strong>TODO</strong></span>: Create your 4-layer MLP in tensorflow. Since you are going to create a deeper neural network, it is recommended to use \"list\" to store your network parameters (weights and bias). Consider using a loop to create your MLP network. Hint: Copy the above code and make necessary changes in model definition."
   ]
  },
  {
   "cell_type": "code",
   "execution_count": 4,
   "metadata": {},
   "outputs": [
    {
     "name": "stdout",
     "output_type": "stream",
     "text": [
      "epoch 1: valid acc = 0.18549999594688416\n",
      "epoch 2: valid acc = 0.1875\n",
      "epoch 3: valid acc = 0.18950000405311584\n",
      "epoch 4: valid acc = 0.19550000131130219\n",
      "epoch 5: valid acc = 0.21199999749660492\n",
      "epoch 6: valid acc = 0.3334999978542328\n",
      "epoch 7: valid acc = 0.40149998664855957\n",
      "epoch 8: valid acc = 0.3659999966621399\n",
      "epoch 9: valid acc = 0.45249998569488525\n",
      "epoch 10: valid acc = 0.5180000066757202\n",
      "epoch 11: valid acc = 0.5559999942779541\n",
      "epoch 12: valid acc = 0.6305000185966492\n",
      "epoch 13: valid acc = 0.6859999895095825\n",
      "epoch 14: valid acc = 0.7135000228881836\n",
      "epoch 15: valid acc = 0.7379999756813049\n",
      "epoch 16: valid acc = 0.7515000104904175\n",
      "epoch 17: valid acc = 0.7615000009536743\n",
      "epoch 18: valid acc = 0.7724999785423279\n",
      "epoch 19: valid acc = 0.7900000214576721\n",
      "epoch 20: valid acc = 0.7889999747276306\n",
      "epoch 21: valid acc = 0.7990000247955322\n",
      "epoch 22: valid acc = 0.8059999942779541\n",
      "epoch 23: valid acc = 0.8144999742507935\n",
      "epoch 24: valid acc = 0.8165000081062317\n",
      "epoch 25: valid acc = 0.815500020980835\n",
      "epoch 26: valid acc = 0.8169999718666077\n",
      "epoch 27: valid acc = 0.8174999952316284\n",
      "epoch 28: valid acc = 0.8199999928474426\n",
      "epoch 29: valid acc = 0.8234999775886536\n",
      "epoch 30: valid acc = 0.8295000195503235\n",
      "test acc = 0.8120999932289124\n"
     ]
    }
   ],
   "source": [
    "# Create you MLP using TensorFlow functions.\n",
    "hidden_dim = [200, 100, 50] # 3 hidden layers, dimensions provided by myself\n",
    "reg_tf = tf.constant(1e-3) # regulation provided by myself\n",
    "\n",
    "# define a tf.keras.Model class\n",
    "class Model(tf.keras.Model):\n",
    "    def __init__(self):\n",
    "        super(Model, self).__init__()\n",
    "        self.num_layers = len(hidden_dim) + 1\n",
    "        self.W = [tf.Variable(1e-2*np.random.rand(X_train.shape[1], hidden_dim[0]).astype('float32'))]\n",
    "        self.b = [tf.Variable(np.zeros((hidden_dim[0],)).astype('float32'))]\n",
    "        for i in range(1, self.num_layers - 1):\n",
    "            self.W.append(tf.Variable(1e-2*np.random.rand(hidden_dim[i - 1], hidden_dim[i]).astype('float32')))\n",
    "            self.b.append(tf.Variable(np.zeros((hidden_dim[i],)).astype('float32')))\n",
    "        self.W.append(tf.Variable(1e-2*np.random.rand(hidden_dim[len(hidden_dim) - 1], 20).astype('float32')))\n",
    "        self.b.append(tf.Variable(np.zeros((20,)).astype('float32')))    \n",
    "        \n",
    "    def call(self, inputs):\n",
    "        \"\"\"Run the model.\"\"\"\n",
    "        h = [tf.nn.relu(tf.matmul(inputs, self.W[0]) + self.b[0])] # input layer\n",
    "        for i in range(1, self.num_layers - 1):\n",
    "            h.append(tf.nn.relu(tf.matmul(h[len(h)-1], self.W[i]) + self.b[i]))\n",
    "        out = tf.matmul(h[len(h)-1], self.W[len(self.W)-1]) + self.b[len(self.b)-1] # last layer no ReLU\n",
    "        return out\n",
    "\n",
    "# Define and calculate loss function (Note that in eager execution, loss must be in a function)\n",
    "def loss(model, inputs, targets, reg = tf.constant(0.01)):\n",
    "    out = model(inputs)\n",
    "    cross_entropy = tf.nn.softmax_cross_entropy_with_logits(logits= out, labels=tf.one_hot(targets,20))\n",
    "    L2_loss = 0\n",
    "    for i in range(model.num_layers):\n",
    "        L2_loss += tf.nn.l2_loss(model.W[i])\n",
    "    return tf.reduce_mean(cross_entropy) + reg * L2_loss\n",
    "\n",
    "# Calculate gradients for all variables using tf.GradientTape\n",
    "def grad(model, inputs, targets, reg = tf.constant(0.01)):\n",
    "    with tf.GradientTape() as tape:\n",
    "        loss_value = loss(model, inputs, targets, reg=reg)\n",
    "    W_b = []\n",
    "    for i in range(model.num_layers):\n",
    "        W_b.append(model.W[i])\n",
    "        W_b.append(model.b[i])\n",
    "    return tape.gradient(loss_value, W_b)\n",
    "\n",
    "# Calculate classification accuracy\n",
    "def eval_acc(model, inputs, targets):\n",
    "    correct_prediction = tf.equal(targets, tf.cast(tf.argmax(model(inputs),1), tf.uint8))\n",
    "    accuracy = tf.reduce_mean(tf.cast(correct_prediction, tf.float32))\n",
    "    return accuracy\n",
    "\n",
    "num_train = 58000\n",
    "batch_size = 100 # provided by myself\n",
    "num_batch = num_train//batch_size\n",
    "num_epochs = 30 # provided by myself\n",
    "model = Model()\n",
    "optimizer = tf.keras.optimizers.SGD(learning_rate=1e-3)\n",
    "\n",
    "for e in range(num_epochs):\n",
    "    for i in range(num_batch):\n",
    "        batch_xs, batch_ys = X_train[i*batch_size:(i+1)*batch_size], y_train[i*batch_size:(i+1)*batch_size]\n",
    "        x_tf = tf.Variable(batch_xs, dtype = tf.float32)\n",
    "        y_tf = tf.Variable(batch_ys, dtype = tf.uint8)\n",
    "        \n",
    "        grads = grad(model, x_tf, y_tf, reg_tf)\n",
    "        #optimization based on calculated gradients\n",
    "        W_b = []\n",
    "        for i in range(model.num_layers):\n",
    "            W_b.append(model.W[i])\n",
    "            W_b.append(model.b[i])\n",
    "        optimizer.apply_gradients(zip(grads, W_b))\n",
    "\n",
    "    x_tf = tf.Variable(X_val, dtype = tf.float32)\n",
    "    y_tf = tf.Variable(y_val, dtype = tf.uint8)\n",
    "    accuracy = eval_acc(model, x_tf, y_tf)\n",
    "    val_acc = accuracy.numpy()\n",
    "    print('epoch {}: valid acc = {}'.format(e+1, val_acc))\n",
    "\n",
    "x_tf = tf.Variable(X_test, dtype = tf.float32)\n",
    "y_tf = tf.Variable(y_test, dtype = tf.uint8)\n",
    "accuracy = eval_acc(model, x_tf, y_tf)\n",
    "test_acc = accuracy.numpy()\n",
    "print('test acc = {}'.format(test_acc))"
   ]
  },
  {
   "cell_type": "markdown",
   "metadata": {},
   "source": [
    "Yufan's Note: Test accuracy for this four-layer network is around 81.5%."
   ]
  },
  {
   "cell_type": "markdown",
   "metadata": {},
   "source": [
    "### Introduction to TensorFlow.keras\n",
    "\n",
    "As you can see, when the network structure becomes larger, it is hard to handle variables from every layer. Here we introduce the `tf.keras` tool to build the network in a much simpler way. You may want to use it in your project."
   ]
  },
  {
   "cell_type": "markdown",
   "metadata": {},
   "source": [
    "<span style=\"color:red\"><strong>TODO</strong></span>: Follow this official example: https://www.tensorflow.org/datasets/keras_example#step_2_create_and_train_the_model to build an MLP and train it. \n",
    "\n",
    "*You should keep the same optimizer (SGD) and loss function (cross entropy) as in the previous task.*\n",
    "\n",
    "**Note:** Since we want to use our own dataset, we will not use the `tfds.load` method to load the data this time. \n",
    "\n",
    "You need to check the usage of [`model.fit()`](https://www.tensorflow.org/api_docs/python/tf/keras/Model#fit) and feed the model with our own data.\n",
    "\n",
    "**Tips:**\n",
    "* Softmax is also registered as a layer operation in tf.keras.\n",
    "* You can use `model.summary()` to visualize the model after you build it.\n",
    "* Use `verbose=2` in `model.fit()` to get similar training logs"
   ]
  },
  {
   "cell_type": "code",
   "execution_count": 5,
   "metadata": {},
   "outputs": [
    {
     "name": "stdout",
     "output_type": "stream",
     "text": [
      "Epoch 1/30\n",
      "WARNING:tensorflow:Model was constructed with shape (None, 28, 28) for input KerasTensor(type_spec=TensorSpec(shape=(None, 28, 28), dtype=tf.float32, name='flatten_input'), name='flatten_input', description=\"created by layer 'flatten_input'\"), but it was called on an input with incompatible shape (None, 784).\n",
      "WARNING:tensorflow:Model was constructed with shape (None, 28, 28) for input KerasTensor(type_spec=TensorSpec(shape=(None, 28, 28), dtype=tf.float32, name='flatten_input'), name='flatten_input', description=\"created by layer 'flatten_input'\"), but it was called on an input with incompatible shape (None, 784).\n",
      "WARNING:tensorflow:Model was constructed with shape (None, 28, 28) for input KerasTensor(type_spec=TensorSpec(shape=(None, 28, 28), dtype=tf.float32, name='flatten_input'), name='flatten_input', description=\"created by layer 'flatten_input'\"), but it was called on an input with incompatible shape (None, 784).\n",
      "1813/1813 - 3s - loss: 1.3025 - sparse_categorical_accuracy: 0.7501 - val_loss: 0.6027 - val_sparse_categorical_accuracy: 0.7865\n",
      "Epoch 2/30\n",
      "1813/1813 - 3s - loss: 0.5149 - sparse_categorical_accuracy: 0.8190 - val_loss: 0.5156 - val_sparse_categorical_accuracy: 0.8025\n",
      "Epoch 3/30\n",
      "1813/1813 - 3s - loss: 0.4481 - sparse_categorical_accuracy: 0.8404 - val_loss: 0.5191 - val_sparse_categorical_accuracy: 0.8115\n",
      "Epoch 4/30\n",
      "1813/1813 - 3s - loss: 0.4090 - sparse_categorical_accuracy: 0.8523 - val_loss: 0.4872 - val_sparse_categorical_accuracy: 0.8285\n",
      "Epoch 5/30\n",
      "1813/1813 - 3s - loss: 0.3812 - sparse_categorical_accuracy: 0.8606 - val_loss: 0.4734 - val_sparse_categorical_accuracy: 0.8310\n",
      "Epoch 6/30\n",
      "1813/1813 - 3s - loss: 0.3606 - sparse_categorical_accuracy: 0.8684 - val_loss: 0.4638 - val_sparse_categorical_accuracy: 0.8370\n",
      "Epoch 7/30\n",
      "1813/1813 - 3s - loss: 0.3448 - sparse_categorical_accuracy: 0.8727 - val_loss: 0.4448 - val_sparse_categorical_accuracy: 0.8445\n",
      "Epoch 8/30\n",
      "1813/1813 - 3s - loss: 0.3293 - sparse_categorical_accuracy: 0.8793 - val_loss: 0.4361 - val_sparse_categorical_accuracy: 0.8450\n",
      "Epoch 9/30\n",
      "1813/1813 - 3s - loss: 0.3155 - sparse_categorical_accuracy: 0.8838 - val_loss: 0.4513 - val_sparse_categorical_accuracy: 0.8420\n",
      "Epoch 10/30\n",
      "1813/1813 - 3s - loss: 0.3042 - sparse_categorical_accuracy: 0.8884 - val_loss: 0.4720 - val_sparse_categorical_accuracy: 0.8440\n",
      "Epoch 11/30\n",
      "1813/1813 - 3s - loss: 0.2946 - sparse_categorical_accuracy: 0.8902 - val_loss: 0.4266 - val_sparse_categorical_accuracy: 0.8475\n",
      "Epoch 12/30\n",
      "1813/1813 - 3s - loss: 0.2842 - sparse_categorical_accuracy: 0.8952 - val_loss: 0.4246 - val_sparse_categorical_accuracy: 0.8505\n",
      "Epoch 13/30\n",
      "1813/1813 - 3s - loss: 0.2748 - sparse_categorical_accuracy: 0.8972 - val_loss: 0.4072 - val_sparse_categorical_accuracy: 0.8590\n",
      "Epoch 14/30\n",
      "1813/1813 - 3s - loss: 0.2661 - sparse_categorical_accuracy: 0.9016 - val_loss: 0.4226 - val_sparse_categorical_accuracy: 0.8590\n",
      "Epoch 15/30\n",
      "1813/1813 - 3s - loss: 0.2579 - sparse_categorical_accuracy: 0.9037 - val_loss: 0.4146 - val_sparse_categorical_accuracy: 0.8655\n",
      "Epoch 16/30\n",
      "1813/1813 - 3s - loss: 0.2501 - sparse_categorical_accuracy: 0.9068 - val_loss: 0.4173 - val_sparse_categorical_accuracy: 0.8675\n",
      "Epoch 17/30\n",
      "1813/1813 - 3s - loss: 0.2428 - sparse_categorical_accuracy: 0.9095 - val_loss: 0.4168 - val_sparse_categorical_accuracy: 0.8590\n",
      "Epoch 18/30\n",
      "1813/1813 - 3s - loss: 0.2361 - sparse_categorical_accuracy: 0.9126 - val_loss: 0.4205 - val_sparse_categorical_accuracy: 0.8615\n",
      "Epoch 19/30\n",
      "1813/1813 - 3s - loss: 0.2287 - sparse_categorical_accuracy: 0.9155 - val_loss: 0.4298 - val_sparse_categorical_accuracy: 0.8620\n",
      "Epoch 20/30\n",
      "1813/1813 - 3s - loss: 0.2227 - sparse_categorical_accuracy: 0.9173 - val_loss: 0.4405 - val_sparse_categorical_accuracy: 0.8590\n",
      "Epoch 21/30\n",
      "1813/1813 - 3s - loss: 0.2163 - sparse_categorical_accuracy: 0.9197 - val_loss: 0.4215 - val_sparse_categorical_accuracy: 0.8695\n",
      "Epoch 22/30\n",
      "1813/1813 - 3s - loss: 0.2105 - sparse_categorical_accuracy: 0.9220 - val_loss: 0.4398 - val_sparse_categorical_accuracy: 0.8615\n",
      "Epoch 23/30\n",
      "1813/1813 - 3s - loss: 0.2043 - sparse_categorical_accuracy: 0.9245 - val_loss: 0.4325 - val_sparse_categorical_accuracy: 0.8690\n",
      "Epoch 24/30\n",
      "1813/1813 - 3s - loss: 0.1985 - sparse_categorical_accuracy: 0.9260 - val_loss: 0.4428 - val_sparse_categorical_accuracy: 0.8635\n",
      "Epoch 25/30\n",
      "1813/1813 - 3s - loss: 0.1922 - sparse_categorical_accuracy: 0.9281 - val_loss: 0.4745 - val_sparse_categorical_accuracy: 0.8565\n",
      "Epoch 26/30\n",
      "1813/1813 - 3s - loss: 0.1876 - sparse_categorical_accuracy: 0.9316 - val_loss: 0.4520 - val_sparse_categorical_accuracy: 0.8620\n",
      "Epoch 27/30\n",
      "1813/1813 - 3s - loss: 0.1819 - sparse_categorical_accuracy: 0.9329 - val_loss: 0.4564 - val_sparse_categorical_accuracy: 0.8615\n",
      "Epoch 28/30\n",
      "1813/1813 - 3s - loss: 0.1770 - sparse_categorical_accuracy: 0.9347 - val_loss: 0.4499 - val_sparse_categorical_accuracy: 0.8670\n",
      "Epoch 29/30\n",
      "1813/1813 - 3s - loss: 0.1720 - sparse_categorical_accuracy: 0.9372 - val_loss: 0.4604 - val_sparse_categorical_accuracy: 0.8705\n",
      "Epoch 30/30\n",
      "1813/1813 - 3s - loss: 0.1670 - sparse_categorical_accuracy: 0.9381 - val_loss: 0.4674 - val_sparse_categorical_accuracy: 0.8620\n",
      "WARNING:tensorflow:Model was constructed with shape (None, 28, 28) for input KerasTensor(type_spec=TensorSpec(shape=(None, 28, 28), dtype=tf.float32, name='flatten_input'), name='flatten_input', description=\"created by layer 'flatten_input'\"), but it was called on an input with incompatible shape (100, 784).\n",
      "100/100 [==============================] - 0s 2ms/step - loss: 0.5181 - sparse_categorical_accuracy: 0.8580\n",
      "test acc = 0.8579999804496765\n"
     ]
    }
   ],
   "source": [
    "#############################################################\n",
    "# TODO: build the model with tf.keras.models.Sequential\n",
    "\n",
    "model = tf.keras.models.Sequential([\n",
    "    tf.keras.layers.Flatten(input_shape = (28,28)),\n",
    "    tf.keras.layers.Dense(200, activation = 'relu'),\n",
    "    tf.keras.layers.Dense(100, activation = 'relu'),\n",
    "    tf.keras.layers.Dense(50, activation = 'relu'),\n",
    "    tf.keras.layers.Dense(10, activation = 'softmax')\n",
    "])\n",
    "# model.summary() # DEBUG USE: visualize the model\n",
    "\n",
    "# END of your code\n",
    "#############################################################\n",
    "\n",
    "#############################################################\n",
    "# TODO: compile the model, set optimizer and loss\n",
    "\n",
    "model.compile(\n",
    "    optimizer=tf.keras.optimizers.SGD(0.001),\n",
    "    loss=tf.keras.losses.SparseCategoricalCrossentropy(from_logits = True),\n",
    "    metrics=[tf.keras.metrics.SparseCategoricalAccuracy()]\n",
    ")\n",
    "\n",
    "# END of your code\n",
    "#############################################################\n",
    "\n",
    "#############################################################\n",
    "# TODO: train the model with our own dataset\n",
    "\n",
    "model.fit(X_train, y_train, verbose=2, epochs=num_epochs, validation_data=(X_val,y_val)) # epochs is the same as the previous task (30)\n",
    "# Test\n",
    "test_results = model.evaluate(X_test, y_test, batch_size=batch_size) # batch size is the same as the previous task (100)\n",
    "print(\"test acc =\", test_results[1])\n",
    "\n",
    "# END of your code\n",
    "#############################################################"
   ]
  },
  {
   "cell_type": "markdown",
   "metadata": {},
   "source": [
    "Yufan's Note: Test accuracy for this four-layer network (with keras) is around 86%."
   ]
  },
  {
   "cell_type": "markdown",
   "metadata": {},
   "source": [
    "## Part 2: t-SNE (5%)\n",
    "\n",
    "t-SNE is is a machine learning algorithm for nonlinear dimensionality reduction developed by Geoffrey Hinton and Laurens van der Maaten. It is also a good way of visualizing high-dimensional data in 2D. We show its application for CIFAR100. Later it will be re-used in a CNN network. Experimenting with t-SNE can be fun. One thing to try is to visualize the output of each layer of MLP to observe the differences.\n",
    "\n",
    "<p style=\"line-height: 1.2;\">[1] Maaten, Laurens van der, and Geoffrey Hinton. \"Visualizing data using t-SNE.\" Journal of Machine Learning Research 9.Nov (2008): 2579-2605.</p>\n",
    "<p style=\"line-height: 1.2;\">[2] Adaptive learning rate scheme by Jacobs https://www.willamette.edu/~gorr/classes/cs449/Momentum/deltabardelta.html</p>\n",
    "<p style=\"line-height: 1.2;\">[3] http://cs.stanford.edu/people/karpathy/cnnembed/</p>\n",
    "<p style=\"line-height: 1.2;\">[4] How to Use t-SNE Effectively, with examples.\n",
    " https://distill.pub/2016/misread-tsne</p>"
   ]
  },
  {
   "cell_type": "code",
   "execution_count": 6,
   "metadata": {},
   "outputs": [],
   "source": [
    "from utils.train_funcs import train, test\n",
    "from utils.classifiers.mlp import MLP\n",
    "from utils.features.tsne import tsne"
   ]
  },
  {
   "cell_type": "code",
   "execution_count": 7,
   "metadata": {
    "tags": []
   },
   "outputs": [
    {
     "name": "stdout",
     "output_type": "stream",
     "text": [
      "(58000, 784) (2000, 784) (10000, 784) (100, 784)\n",
      "Train data shape:  (58000, 784)\n",
      "Train labels shape:  (58000,)\n",
      "Validation data shape:  (2000, 784)\n",
      "Validation labels shape:  (2000,)\n",
      "Test data shape:  (10000, 784)\n",
      "Test labels shape:  (10000,)\n",
      "Development data shape: (100, 784)\n",
      "Development data shape (100,)\n"
     ]
    }
   ],
   "source": [
    "# Load the raw Fashion-MNIST data.\n",
    "train_data, test_data = fashion_mnist.load_data()\n",
    "\n",
    "X_train_raw, y_train = train_data\n",
    "X_test_raw, y_test = test_data\n",
    "\n",
    "X_train = X_train_raw.reshape((X_train_raw.shape[0], X_train_raw.shape[1]**2))\n",
    "X_test = X_test_raw.reshape((X_test_raw.shape[0], X_test_raw.shape[1]**2))\n",
    "\n",
    "# Data organizations:\n",
    "# Train data: 58000 samples from original training set of 60,000\n",
    "# Validation data: 2000 samples from original training set: 58,000~60,000\n",
    "# Test data: 10000 samples from original test set\n",
    "# Development data (for gradient check): 100 from the training set\n",
    "num_training = 58000\n",
    "num_validation = 2000\n",
    "num_dev = 100\n",
    "\n",
    "X_val = X_train[-num_validation:, :]\n",
    "y_val = y_train[-num_validation:]\n",
    "\n",
    "mask = np.random.choice(num_training, num_dev, replace=False)\n",
    "X_dev = X_train[mask]\n",
    "y_dev = y_train[mask]\n",
    "\n",
    "X_train = X_train[:num_training, :]\n",
    "y_train = y_train[:num_training]\n",
    "\n",
    "# Preprocessing: subtract the mean value across every dimension for training data\n",
    "mean_image = np.mean(X_train, axis=0)\n",
    "\n",
    "X_train = X_train.astype(np.float32) - mean_image.astype(np.float32)\n",
    "X_val = X_val.astype(np.float32) - mean_image\n",
    "X_test = X_test.astype(np.float32) - mean_image\n",
    "X_dev = X_dev.astype(np.float32) - mean_image\n",
    "\n",
    "print(X_train.shape, X_val.shape, X_test.shape, X_dev.shape)\n",
    "print('Train data shape: ', X_train.shape)\n",
    "print('Train labels shape: ', y_train.shape)\n",
    "print('Validation data shape: ', X_val.shape)\n",
    "print('Validation labels shape: ', y_val.shape)\n",
    "print('Test data shape: ', X_test.shape)\n",
    "print('Test labels shape: ', y_test.shape)\n",
    "print('Development data shape:', X_dev.shape)\n",
    "print('Development data shape', y_dev.shape)"
   ]
  },
  {
   "cell_type": "markdown",
   "metadata": {},
   "source": [
    "#### tSNE of original data"
   ]
  },
  {
   "cell_type": "code",
   "execution_count": 8,
   "metadata": {
    "tags": []
   },
   "outputs": [
    {
     "name": "stdout",
     "output_type": "stream",
     "text": [
      "2.804294456954031\n",
      "The 100 th loop cost: 11.772869823169186, computation time: 1.9929299354553223\n",
      "The 200 th loop cost: 0.5700437670438092, computation time: 3.9146528244018555\n",
      "The 300 th loop cost: 0.5290841823287238, computation time: 5.838031053543091\n",
      "The 400 th loop cost: 0.5211413510540003, computation time: 7.762868881225586\n",
      "The 500 th loop cost: 0.519131937041702, computation time: 9.704535245895386\n",
      "The 600 th loop cost: 0.5183470668003741, computation time: 11.63623595237732\n",
      "The 700 th loop cost: 0.5179677564927158, computation time: 13.589478492736816\n",
      "The 800 th loop cost: 0.5177645535402768, computation time: 15.518038272857666\n",
      "The 900 th loop cost: 0.5176463093813666, computation time: 17.455402135849\n",
      "The 1000 th loop cost: 0.5175738127929266, computation time: 19.372344970703125\n",
      "it takes 20.061599731445312 seconds\n"
     ]
    }
   ],
   "source": [
    "random_select = np.random.choice(10000, 500, replace=False)\n",
    "X = X_test_raw[random_select,:,:].reshape(500,X_train.shape[1]).astype('float')/255.0\n",
    "tic = time.time()\n",
    "Y = tsne(X, low_dim=2, perplexity=25.0)\n",
    "print(\"it takes {} seconds\".format(time.time()-tic))"
   ]
  },
  {
   "cell_type": "code",
   "execution_count": 9,
   "metadata": {},
   "outputs": [
    {
     "data": {
      "image/png": "[encoded data removed]",
      "text/plain": [
       "<Figure size 432x288 with 1 Axes>"
      ]
     },
     "metadata": {
      "needs_background": "light"
     },
     "output_type": "display_data"
    }
   ],
   "source": [
    "## visualize tSNE of original data\n",
    "labels = y_test[random_select]\n",
    "colors = np.random.rand(20,3)\n",
    "color_labels = [colors[int(i)] for i in labels.tolist()]\n",
    "plt.scatter(Y[:,0], Y[:,1], 20, color_labels)\n",
    "plt.title(\"tSNE of original data\")\n",
    "plt.grid()\n",
    "plt.show()"
   ]
  },
  {
   "cell_type": "markdown",
   "metadata": {},
   "source": [
    "#### tSNE of data after two hidden layers\n",
    "\n",
    "Do visualization of the tSNE of data after going through MLP. In the visualization result, you should find that in comparison with the tSNE of original data where all data points mess up with each other, tSNE of data after two-layer networks would be shown as multiple clusters in a 2D panel."
   ]
  },
  {
   "cell_type": "code",
   "execution_count": 10,
   "metadata": {
    "tags": []
   },
   "outputs": [
    {
     "name": "stdout",
     "output_type": "stream",
     "text": [
      "number of batches for training: 290\n",
      "epoch 1: valid acc = 0.786, new learning rate = 0.00095\n",
      "epoch 2: valid acc = 0.823, new learning rate = 0.0009025\n",
      "epoch 3: valid acc = 0.842, new learning rate = 0.000857375\n",
      "epoch 4: valid acc = 0.844, new learning rate = 0.0008145062499999999\n",
      "epoch 5: valid acc = 0.854, new learning rate = 0.0007737809374999998\n",
      "epoch 6: valid acc = 0.848, new learning rate = 0.0007350918906249997\n",
      "epoch 7: valid acc = 0.8545, new learning rate = 0.0006983372960937497\n",
      "epoch 8: valid acc = 0.8615, new learning rate = 0.0006634204312890621\n",
      "epoch 9: valid acc = 0.868, new learning rate = 0.000630249409724609\n",
      "epoch 10: valid acc = 0.8615, new learning rate = 0.0005987369392383785\n",
      "test acc: 0.8515\n"
     ]
    },
    {
     "data": {
      "text/plain": [
       "0.8515"
      ]
     },
     "execution_count": 10,
     "metadata": {},
     "output_type": "execute_result"
    }
   ],
   "source": [
    "# Define MLP model (Task 2)\n",
    "model = MLP(input_dim=X_train.shape[1], hidden_dims=[100], num_classes=20, reg=0.1, weight_scale=1e-3)\n",
    "\n",
    "num_epoch = 10\n",
    "batch_size = 200\n",
    "lr = 1e-3\n",
    "verbose = False\n",
    "train_acc_hist, val_acc_hist = train(model, X_train, y_train, X_val, y_val, num_epoch=num_epoch, batch_size=batch_size, learning_rate=lr, verbose=verbose)\n",
    "test(model, X_test, y_test)"
   ]
  },
  {
   "cell_type": "markdown",
   "metadata": {},
   "source": [
    "Yufan's Note: Test accuracy for this two-layer MLP model is around 85%."
   ]
  },
  {
   "cell_type": "markdown",
   "metadata": {},
   "source": [
    "<span style=\"color:red\"><strong>TODO</strong></span>: Visualize data that is passed through MLP model defined above using tSNE. "
   ]
  },
  {
   "cell_type": "code",
   "execution_count": 11,
   "metadata": {
    "tags": []
   },
   "outputs": [
    {
     "name": "stdout",
     "output_type": "stream",
     "text": [
      "0.09774138001574915\n",
      "The 100 th loop cost: 8.595497121110315, computation time: 1.966965913772583\n",
      "The 200 th loop cost: 0.20610334014327059, computation time: 3.924370288848877\n",
      "The 300 th loop cost: 0.16476252635655858, computation time: 5.895366907119751\n",
      "The 400 th loop cost: 0.15124566449840687, computation time: 7.900393009185791\n",
      "The 500 th loop cost: 0.1460788229151842, computation time: 9.906155109405518\n",
      "The 600 th loop cost: 0.14317697856043596, computation time: 11.943224430084229\n",
      "The 700 th loop cost: 0.1412534452828718, computation time: 13.923303842544556\n",
      "The 800 th loop cost: 0.1398472485596136, computation time: 15.895534753799438\n",
      "The 900 th loop cost: 0.13874854556215796, computation time: 17.821622610092163\n",
      "The 1000 th loop cost: 0.1378371223497574, computation time: 19.784768104553223\n",
      "it takes 20.606956958770752 seconds\n"
     ]
    }
   ],
   "source": [
    "# run tSNE\n",
    "X = X_test[random_select]\n",
    "tic = time.time()\n",
    "\n",
    "#############################################################################\n",
    "#                          START OF YOUR CODE                               #\n",
    "# Hint: Pass data through affine and dense layers (model.layers) and then   #\n",
    "# apply softmax to obtain output of the MLP model.                          #\n",
    "#############################################################################\n",
    "\n",
    "from utils.classifiers.softmax import softmax\n",
    "\n",
    "# Pass data through dense and affine layers\n",
    "out = model.forward(X)\n",
    "# Apply softmax\n",
    "out = softmax(out)\n",
    "# tSNE\n",
    "Y = tsne(out, low_dim=2, perplexity=25.0)\n",
    "\n",
    "#############################################################################\n",
    "#                          END OF YOUR CODE                                 #\n",
    "#############################################################################\n",
    "\n",
    "print(\"it takes {} seconds\".format(time.time()-tic))"
   ]
  },
  {
   "cell_type": "code",
   "execution_count": 12,
   "metadata": {},
   "outputs": [
    {
     "data": {
      "image/png": "[encoded data removed]",
      "text/plain": [
       "<Figure size 432x288 with 1 Axes>"
      ]
     },
     "metadata": {
      "needs_background": "light"
     },
     "output_type": "display_data"
    }
   ],
   "source": [
    "# visualize tSNE 2D representation of data after two hidden layers\n",
    "#############################################################################\n",
    "#                          START OF YOUR CODE                               #\n",
    "# Hint: See tSNE visualization of original data                             #\n",
    "#############################################################################\n",
    "\n",
    "plt.scatter(Y[:,0], Y[:,1], 20, color_labels) # color_labels has been created\n",
    "plt.title(\"tSNE of MLP classified data\")\n",
    "plt.grid()\n",
    "plt.show()\n",
    "\n",
    "#############################################################################\n",
    "#                          END OF YOUR CODE                                 #\n",
    "#############################################################################"
   ]
  },
  {
   "cell_type": "markdown",
   "metadata": {},
   "source": [
    "Yufan's Note: Compare with the original data, the output from the two-layer MLP is classified into different groups. However, the visualization looks too scattered, so we need to tune the parameter in the next cell."
   ]
  },
  {
   "cell_type": "markdown",
   "metadata": {},
   "source": [
    "<span style=\"color:red\"><strong>TODO</strong></span>: Try tuning the parameters of tSNE, do visualization of the new tSNE of data."
   ]
  },
  {
   "cell_type": "code",
   "execution_count": 13,
   "metadata": {},
   "outputs": [
    {
     "name": "stdout",
     "output_type": "stream",
     "text": [
      "0.06831527068501052\n",
      "The 100 th loop cost: 9.785043862798005, computation time: 1.9369549751281738\n",
      "The 200 th loop cost: 0.2906036683045318, computation time: 3.8916213512420654\n",
      "The 300 th loop cost: 0.21361837786003424, computation time: 5.807986736297607\n",
      "The 400 th loop cost: 0.18711003571008727, computation time: 7.747655391693115\n",
      "The 500 th loop cost: 0.17676686978094178, computation time: 9.653888940811157\n",
      "The 600 th loop cost: 0.17088904155329024, computation time: 11.587926387786865\n",
      "The 700 th loop cost: 0.1670190794295132, computation time: 13.538184404373169\n",
      "The 800 th loop cost: 0.1642383657664784, computation time: 15.499106407165527\n",
      "The 900 th loop cost: 0.16213865467504565, computation time: 17.480719804763794\n",
      "The 1000 th loop cost: 0.16048427750644384, computation time: 19.447355270385742\n",
      "it takes 20.35160803794861 seconds\n"
     ]
    }
   ],
   "source": [
    "# Tune the parameter, show the results.\n",
    "# run tSNE\n",
    "tic = time.time()\n",
    "\n",
    "#############################################################################\n",
    "#                          START OF YOUR CODE                               #\n",
    "#############################################################################\n",
    "\n",
    "# No need to re calculate MLP output (out) here\n",
    "\n",
    "# tSNE (different parameter)\n",
    "Y = tsne(out, low_dim=2, perplexity=15.0)\n",
    "\n",
    "#############################################################################\n",
    "#                          END OF YOUR CODE                                 #\n",
    "#############################################################################\n",
    "\n",
    "print(\"it takes {} seconds\".format(time.time()-tic))"
   ]
  },
  {
   "cell_type": "code",
   "execution_count": 14,
   "metadata": {},
   "outputs": [
    {
     "data": {
      "image/png": "[encoded data removed]",
      "text/plain": [
       "<Figure size 432x288 with 1 Axes>"
      ]
     },
     "metadata": {
      "needs_background": "light"
     },
     "output_type": "display_data"
    }
   ],
   "source": [
    "# visualize tSNE 2D representation of data after two hidden layers\n",
    "#############################################################################\n",
    "#                          START OF YOUR CODE                               #\n",
    "#############################################################################\n",
    "\n",
    "plt.scatter(Y[:,0], Y[:,1], 20, color_labels) # color_labels has been created\n",
    "plt.title(\"tSNE (different parameter) of MLP classified data\")\n",
    "plt.grid()\n",
    "plt.show()\n",
    "\n",
    "#############################################################################\n",
    "#                          END OF YOUR CODE                                 #\n",
    "#############################################################################"
   ]
  },
  {
   "cell_type": "markdown",
   "metadata": {},
   "source": [
    "Yufan's Note: The visualization looks better now."
   ]
  }
 ],
 "metadata": {
  "colab": {
   "name": "task2-mlp_eager.ipynb",
   "provenance": [],
   "toc_visible": true,
   "version": "0.3.2"
  },
  "kernelspec": {
   "display_name": "Python 3",
   "language": "python",
   "name": "python3"
  },
  "language_info": {
   "codemirror_mode": {
    "name": "ipython",
    "version": 3
   },
   "file_extension": ".py",
   "mimetype": "text/x-python",
   "name": "python",
   "nbconvert_exporter": "python",
   "pygments_lexer": "ipython3",
   "version": "3.6.9"
  },
  "vscode": {
   "interpreter": {
    "hash": "b0fa6594d8f4cbf19f97940f81e996739fb7646882a419484c72d19e05852a7e"
   }
  }
 },
 "nbformat": 4,
 "nbformat_minor": 4
}
